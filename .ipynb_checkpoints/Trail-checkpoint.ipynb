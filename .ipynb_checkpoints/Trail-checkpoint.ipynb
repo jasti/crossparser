{
 "metadata": {
  "name": "",
  "signature": "sha256:7e972341e8e9d039f86340457a9e6f456484b2093a02c23fc6dff19ab8d20ae3"
 },
 "nbformat": 3,
 "nbformat_minor": 0,
 "worksheets": [
  {
   "cells": [
    {
     "cell_type": "code",
     "collapsed": false,
     "input": [
      "import pandas as pd\n",
      "import numpy as np\n",
      "df = pd.DataFrame({'id' : range(1,9),\n",
      "                   'value': [2,3,4,5,6,7,8,np.nan]},  columns= ['id','value'])"
     ],
     "language": "python",
     "metadata": {},
     "outputs": [],
     "prompt_number": 11
    },
    {
     "cell_type": "code",
     "collapsed": false,
     "input": [
      "print df\n",
      "df.columns = ['a', 'b']\n",
      "print df"
     ],
     "language": "python",
     "metadata": {},
     "outputs": [
      {
       "output_type": "stream",
       "stream": "stdout",
       "text": [
        "   id  value\n",
        "0   1      2\n",
        "1   2      3\n",
        "2   3      4\n",
        "3   4      5\n",
        "4   5      6\n",
        "5   6      7\n",
        "6   7      8\n",
        "7   8    NaN\n",
        "\n",
        "[8 rows x 2 columns]\n",
        "   a   b\n",
        "0  1   2\n",
        "1  2   3\n",
        "2  3   4\n",
        "3  4   5\n",
        "4  5   6\n",
        "5  6   7\n",
        "6  7   8\n",
        "7  8 NaN\n",
        "\n",
        "[8 rows x 2 columns]\n"
       ]
      }
     ],
     "prompt_number": 12
    },
    {
     "cell_type": "code",
     "collapsed": false,
     "input": [
      "print df.dtypes\n",
      "\n",
      "    "
     ],
     "language": "python",
     "metadata": {},
     "outputs": [
      {
       "output_type": "stream",
       "stream": "stdout",
       "text": [
        "a      int64\n",
        "b    float64\n",
        "dtype: object\n"
       ]
      }
     ],
     "prompt_number": 13
    },
    {
     "cell_type": "code",
     "collapsed": false,
     "input": [
      "sentence = \"\"\"Something stupid\"\"\"\n",
      "sentence.replace(\"\\\"\\\"\", 'HERO')\n",
      "\n",
      "print sentence\n"
     ],
     "language": "python",
     "metadata": {},
     "outputs": [],
     "prompt_number": 22
    },
    {
     "cell_type": "code",
     "collapsed": false,
     "input": [
      "for time"
     ],
     "language": "python",
     "metadata": {},
     "outputs": []
    }
   ],
   "metadata": {}
  }
 ]
}